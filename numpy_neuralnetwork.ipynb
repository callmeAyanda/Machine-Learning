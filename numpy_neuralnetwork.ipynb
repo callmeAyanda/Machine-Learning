{
  "nbformat": 4,
  "nbformat_minor": 0,
  "metadata": {
    "colab": {
      "provenance": [],
      "authorship_tag": "ABX9TyNxJlbc9VBgYVORiUpSbm3Y",
      "include_colab_link": true
    },
    "kernelspec": {
      "name": "python3",
      "display_name": "Python 3"
    },
    "language_info": {
      "name": "python"
    }
  },
  "cells": [
    {
      "cell_type": "markdown",
      "metadata": {
        "id": "view-in-github",
        "colab_type": "text"
      },
      "source": [
        "<a href=\"https://colab.research.google.com/github/callmeAyanda/Machine-Learning/blob/main/numpy_neuralnetwork.ipynb\" target=\"_parent\"><img src=\"https://colab.research.google.com/assets/colab-badge.svg\" alt=\"Open In Colab\"/></a>"
      ]
    },
    {
      "cell_type": "markdown",
      "source": [
        "This is an MNIST Dataset"
      ],
      "metadata": {
        "id": "-c0yInufFGA2"
      }
    },
    {
      "cell_type": "markdown",
      "source": [
        "importing the neccessary libraries"
      ],
      "metadata": {
        "id": "d9G7wG30FKtV"
      }
    },
    {
      "cell_type": "code",
      "execution_count": 1,
      "metadata": {
        "id": "3xMjewFF2W25"
      },
      "outputs": [],
      "source": [
        "import numpy as np\n",
        "import pandas as pd\n",
        "import struct\n",
        "import gzip\n"
      ]
    },
    {
      "cell_type": "markdown",
      "source": [
        "Loading the MNIST Dataset from Tensorflow"
      ],
      "metadata": {
        "id": "uwh4ezMZFPaG"
      }
    },
    {
      "cell_type": "code",
      "source": [
        "import tensorflow as tf\n",
        "from tensorflow.keras.datasets import mnist\n",
        "from tensorflow.keras.utils import to_categorical\n",
        "\n",
        "# Load MNIST dataset\n",
        "(X_train, y_train), (X_test, y_test) = mnist.load_data()\n",
        "\n",
        "# Normalize pixel values (0-255 → 0-1)\n",
        "X_train, X_test = X_train / 255.0, X_test / 255.0\n",
        "\n",
        "# Flatten images (28x28 → 784)\n",
        "X_train = X_train.reshape(X_train.shape[0], -1)\n",
        "X_test = X_test.reshape(X_test.shape[0], -1)\n",
        "\n",
        "# Convert labels to one-hot encoding\n",
        "y_train = to_categorical(y_train, num_classes=10)\n",
        "y_test = to_categorical(y_test, num_classes=10)\n",
        "\n",
        "print(\"Training set shape:\", X_train.shape)  # (60000, 784)\n",
        "print(\"Test set shape:\", X_test.shape)      # (10000, 784)"
      ],
      "metadata": {
        "colab": {
          "base_uri": "https://localhost:8080/"
        },
        "id": "8TKNh8W5E2WV",
        "outputId": "994af390-9746-4647-a273-69172c083d88"
      },
      "execution_count": 2,
      "outputs": [
        {
          "output_type": "stream",
          "name": "stdout",
          "text": [
            "Training set shape: (60000, 784)\n",
            "Test set shape: (10000, 784)\n"
          ]
        }
      ]
    },
    {
      "cell_type": "markdown",
      "source": [
        "I'm setting the Activation Functions and their derivatives for both Forward and Backward Propagation in the future.\n",
        "\n",
        "Activation function for Hidden Layer:\n",
        "- ReLU and ReLU derivative\n",
        "Activation function for Output Layer:\n",
        "- Sigmoid and Sigmoid derivative\n",
        "\n",
        "- Softmax & MSE for Error loss"
      ],
      "metadata": {
        "id": "ngF9qta0IRgm"
      }
    },
    {
      "cell_type": "code",
      "source": [
        "# Activation functions and their derivatives\n",
        "def sigmoid(x):\n",
        "    return 1 / (1 + np.exp(-x))\n",
        "\n",
        "def sigmoid_derivative(x):\n",
        "    return x * (1 - x)\n",
        "\n",
        "def relu(x):\n",
        "    return np.maximum(0, x)\n",
        "\n",
        "def relu_derivative(x):\n",
        "    return (x > 0).astype(float)\n",
        "\n",
        "def softmax(x):\n",
        "    exp_x = np.exp(x - np.max(x, axis=1, keepdims=True))  # Numerical stability\n",
        "    return exp_x / np.sum(exp_x, axis=1, keepdims=True)\n",
        "\n",
        "# Mean Squared Error loss function\n",
        "def mse(y_true, y_pred):\n",
        "    return np.mean((y_true - y_pred) ** 2)"
      ],
      "metadata": {
        "id": "G7lWskI-5V9O"
      },
      "execution_count": 3,
      "outputs": []
    },
    {
      "cell_type": "markdown",
      "source": [
        "Initializing the needed Parameters for Forward and Backward Propagation."
      ],
      "metadata": {
        "id": "e2Rfo79KFo4o"
      }
    },
    {
      "cell_type": "markdown",
      "source": [
        "Network Architecture:\n",
        "- input size: 28x28 pixels = 784 pixel image, therefore 754 inputs\n",
        "- hidden layer: 1 layer\n",
        "- neurons per hidden layer: 16 neurons\n",
        "- output: 10 outputs(numbers ranging from 0-9)"
      ],
      "metadata": {
        "id": "-_xG9QUaGl1s"
      }
    },
    {
      "cell_type": "code",
      "source": [
        "class NeuralNetwork:\n",
        "    def __init__(self, input_size, hidden_size, output_size, learning_rate=0.01):\n",
        "        self.learning_rate = learning_rate\n",
        "\n",
        "        # Initialize weights and biases\n",
        "        self.W1 = np.random.randn(input_size, hidden_size) * 0.01\n",
        "        self.b1 = np.zeros((1, hidden_size))\n",
        "        self.W2 = np.random.randn(hidden_size, output_size) * 0.01\n",
        "        self.b2 = np.zeros((1, output_size))\n",
        "\n",
        "    def forward(self, X):\n",
        "        # Forward propagation\n",
        "        self.Z1 = np.dot(X, self.W1) + self.b1    # Z_hidden\n",
        "        self.A1 = relu(self.Z1)                   # Activation function 4 Z_hidden\n",
        "        self.Z2 = np.dot(self.A1, self.W2) + self.b2 # Zoutput\n",
        "        self.A2 = sigmoid(self.Z2)                # Sigmoid Activation function\n",
        "        return self.A2\n",
        "\n",
        "    def backward(self, X, y):\n",
        "        # Compute gradients\n",
        "        m = y.shape[0]                   # number of training examples\n",
        "        dZ2 = self.A2 - y                # loss gradient w.r.t Z2(Zoutput)\n",
        "        dW2 = np.dot(self.A1.T, dZ2) / m # gradient w.r.t W2\n",
        "        db2 = np.sum(dZ2, axis=0, keepdims=True) / m # gradient w.r.t b2\n",
        "\n",
        "        dZ1 = np.dot(dZ2, self.W2.T) * relu_derivative(self.Z1) # loss gradient w.r.t Z1\n",
        "        dW1 = np.dot(X.T, dZ1) / m                              # gradient w.r.t W1\n",
        "        db1 = np.sum(dZ1, axis=0, keepdims=True) / m            # gradient w.r.t b1\n",
        "\n",
        "        # Update weights\n",
        "        self.W1 -= self.learning_rate * dW1\n",
        "        self.b1 -= self.learning_rate * db1\n",
        "        self.W2 -= self.learning_rate * dW2\n",
        "        self.b2 -= self.learning_rate * db2\n",
        "\n",
        "    def train(self, X, y, epochs=1000):\n",
        "        for epoch in range(epochs):\n",
        "            y_pred = self.forward(X)\n",
        "            self.backward(X, y)\n",
        "\n",
        "            if epoch % 100 == 0:\n",
        "                loss = mse(y, y_pred)\n",
        "                print(f\"Epoch {epoch}, Loss: {loss:.4f}\")\n"
      ],
      "metadata": {
        "id": "D5ZRQE4E9LJd"
      },
      "execution_count": 4,
      "outputs": []
    },
    {
      "cell_type": "markdown",
      "source": [
        "Creating and Training the neural network and revealing metrics for better understanding.\n",
        "- Learning Rate set: 0.01"
      ],
      "metadata": {
        "id": "vVn44w90F0Q6"
      }
    },
    {
      "cell_type": "code",
      "source": [
        "# Example usage\n",
        "if __name__ == \"__main__\":\n",
        "    np.random.seed(42)\n",
        "\n",
        "    # Create and train the network\n",
        "    nn = NeuralNetwork(input_size=784, hidden_size=16, output_size=10, learning_rate=0.1)\n",
        "    nn.train(X_train[:1000], y_train[:1000], epochs=1000)  # Training on a subset for speed\n",
        "\n",
        "    # Predictions\n",
        "    predictions = nn.forward(X_test[:5])  # Predicting 5 test images\n",
        "    print(\"Predictions:\", predictions.argmax(axis=1))  # Get the predicted class labels\n",
        "    print(\"True labels:\", y_test[:5])  # Display true labels\n",
        "    print(\"Accuracy:\", np.mean(predictions.argmax(axis=1) == y_test[:5].argmax(axis=1)))  # Calculate accuracy\n"
      ],
      "metadata": {
        "id": "qnmjBPC79PPK",
        "colab": {
          "base_uri": "https://localhost:8080/"
        },
        "outputId": "b52f74f0-09ae-4a4a-8105-ee975ce7a092"
      },
      "execution_count": 7,
      "outputs": [
        {
          "output_type": "stream",
          "name": "stdout",
          "text": [
            "Epoch 0, Loss: 0.2501\n",
            "Epoch 100, Loss: 0.0613\n",
            "Epoch 200, Loss: 0.0320\n",
            "Epoch 300, Loss: 0.0213\n",
            "Epoch 400, Loss: 0.0161\n",
            "Epoch 500, Loss: 0.0129\n",
            "Epoch 600, Loss: 0.0106\n",
            "Epoch 700, Loss: 0.0088\n",
            "Epoch 800, Loss: 0.0072\n",
            "Epoch 900, Loss: 0.0060\n",
            "Predictions: [7 2 1 0 4]\n",
            "True labels: [[0. 0. 0. 0. 0. 0. 0. 1. 0. 0.]\n",
            " [0. 0. 1. 0. 0. 0. 0. 0. 0. 0.]\n",
            " [0. 1. 0. 0. 0. 0. 0. 0. 0. 0.]\n",
            " [1. 0. 0. 0. 0. 0. 0. 0. 0. 0.]\n",
            " [0. 0. 0. 0. 1. 0. 0. 0. 0. 0.]]\n",
            "Accuracy: 1.0\n"
          ]
        }
      ]
    },
    {
      "cell_type": "markdown",
      "source": [
        "Visualizing the 1st ten samples from the dataset."
      ],
      "metadata": {
        "id": "TKsUsrc0F9FD"
      }
    },
    {
      "cell_type": "code",
      "source": [
        "import matplotlib.pyplot as plt\n",
        "\n",
        "# Select a few test samples\n",
        "num_samples = 10\n",
        "X_samples = X_test[:num_samples]\n",
        "y_true_labels = y_test[:num_samples].argmax(axis=1)  # Convert one-hot encoding to class index\n",
        "\n",
        "# Get predictions\n",
        "y_pred_probs = nn.forward(X_samples)  # Get predicted probabilities\n",
        "y_pred_labels = y_pred_probs.argmax(axis=1)  # Convert to class index\n",
        "\n",
        "# Plot the images with predictions\n",
        "plt.figure(figsize=(10, 5))\n",
        "for i in range(num_samples):\n",
        "    plt.subplot(1, num_samples, i + 1)\n",
        "    plt.imshow(X_samples[i].reshape(28, 28), cmap=\"gray\")\n",
        "    plt.title(f\"Pred: {y_pred_labels[i]}\\nTrue: {y_true_labels[i]}\")\n",
        "    plt.axis(\"off\")\n",
        "\n",
        "plt.show()\n",
        "\n"
      ],
      "metadata": {
        "colab": {
          "base_uri": "https://localhost:8080/",
          "height": 145
        },
        "id": "eHRfeue9rc6-",
        "outputId": "3b33b75f-37c3-4e7c-9046-968f558f12d5"
      },
      "execution_count": 35,
      "outputs": [
        {
          "output_type": "display_data",
          "data": {
            "text/plain": [
              "<Figure size 1000x500 with 10 Axes>"
            ],
            "image/png": "[encoded data removed]"
          },
          "metadata": {}
        }
      ]
    },
    {
      "cell_type": "markdown",
      "source": [
        "Visualizing the dataset by accessing via indexing."
      ],
      "metadata": {
        "id": "e3iGxk2fGJVs"
      }
    },
    {
      "cell_type": "code",
      "source": [
        "import matplotlib.pyplot as plt\n",
        "\n",
        "def predict_and_display(index, X_test, y_test, nn):\n",
        "    if index < 0 or index >= len(X_test):\n",
        "        raise ValueError(\"Index is out of bounds for the test data.\")\n",
        "\n",
        "    X_sample = X_test[index]\n",
        "\n",
        "    # Handle both one-hot encoded and label indices for y_test:\n",
        "    if y_test.ndim == 2: # one-hot encoded\n",
        "      y_true_label = y_test[index].argmax()\n",
        "    else: # label index\n",
        "      y_true_label = y_test[index]\n",
        "\n",
        "    y_pred_probs = nn.forward(X_sample.reshape(1, *X_sample.shape))  # Reshape for single prediction\n",
        "    y_pred_label = y_pred_probs.argmax(axis=1)[0] # Extract the predicted label\n",
        "\n",
        "    plt.imshow(X_sample.reshape(28, 28), cmap=\"gray\")  # Assuming 28x28 images\n",
        "    plt.title(f\"Pred: {y_pred_label}\\nTrue: {y_true_label}\")\n",
        "    plt.axis(\"off\")\n",
        "    plt.show()\n",
        "\n",
        "    print(f\"Predicted Label: {y_pred_label}\")\n",
        "    print(f\"True Label: {y_true_label}\")\n",
        "    return y_pred_label, y_true_label\n",
        "\n",
        "\n",
        "# Predict and display the image at index\n",
        "index_to_predict = 12\n",
        "predicted_label, true_label = predict_and_display(index_to_predict, X_test, y_test, nn)\n",
        "\n"
      ],
      "metadata": {
        "colab": {
          "base_uri": "https://localhost:8080/",
          "height": 484
        },
        "id": "W8g-ksExudHc",
        "outputId": "0a54d4f0-d7ad-427d-e319-f312ad2a296b"
      },
      "execution_count": 44,
      "outputs": [
        {
          "output_type": "display_data",
          "data": {
            "text/plain": [
              "<Figure size 640x480 with 1 Axes>"
            ],
            "image/png": "[encoded data removed]"
          },
          "metadata": {}
        },
        {
          "output_type": "stream",
          "name": "stdout",
          "text": [
            "Predicted Label: 9\n",
            "True Label: 9\n"
          ]
        }
      ]
    },
    {
      "cell_type": "markdown",
      "source": [
        "Visualizing the dataset by asking for user input."
      ],
      "metadata": {
        "id": "J8MLJTnzGPtZ"
      }
    },
    {
      "cell_type": "code",
      "source": [
        "import matplotlib.pyplot as plt\n",
        "\n",
        "def predict_and_display(number, X_test, y_test, nn):\n",
        "    # Ensure the number is within the range of valid digits (0-9)\n",
        "    if number < 0 or number >= 10:\n",
        "        raise ValueError(\"Please enter a number between 0 and 9.\")\n",
        "\n",
        "    # Find a sample that corresponds to the given number\n",
        "    indices = np.where(y_test.argmax(axis=1) == number)[0]  # Find indices where the true label matches the number\n",
        "    if len(indices) == 0:\n",
        "        raise ValueError(f\"No samples found for the digit {number}.\")\n",
        "\n",
        "    # Select the first matching sample (you could modify this to randomly select, etc.)\n",
        "    index = indices[0]\n",
        "    X_sample = X_test[index]\n",
        "\n",
        "    y_true_label = number  # We already know it's the selected number\n",
        "\n",
        "    # Get the prediction\n",
        "    y_pred_probs = nn.forward(X_sample.reshape(1, *X_sample.shape))  # Reshape for single prediction\n",
        "    y_pred_label = y_pred_probs.argmax(axis=1)[0]  # Extract the predicted label\n",
        "\n",
        "    # Display the image\n",
        "    plt.imshow(X_sample.reshape(28, 28), cmap=\"gray\")  # Assuming 28x28 images\n",
        "    plt.title(f\"Pred: {y_pred_label}\\nTrue: {y_true_label}\")\n",
        "    plt.axis(\"off\")\n",
        "    plt.show()\n",
        "\n",
        "    print(f\"Predicted Label: {y_pred_label}\")\n",
        "    print(f\"True Label: {y_true_label}\")\n",
        "    return y_pred_label, y_true_label\n",
        "\n",
        "\n",
        "# User input to predict a specific digit\n",
        "user_input = int(input(\"Enter a number between 0 and 9 to predict: \"))\n",
        "predicted_label, true_label = predict_and_display(user_input, X_test, y_test, nn)\n"
      ],
      "metadata": {
        "colab": {
          "base_uri": "https://localhost:8080/",
          "height": 501
        },
        "id": "fMXURP72_jU4",
        "outputId": "e1ab543c-de2b-42d3-9ccf-273b4baa4bec"
      },
      "execution_count": 31,
      "outputs": [
        {
          "name": "stdout",
          "output_type": "stream",
          "text": [
            "Enter a number between 0 and 9 to predict: 8\n"
          ]
        },
        {
          "output_type": "display_data",
          "data": {
            "text/plain": [
              "<Figure size 640x480 with 1 Axes>"
            ],
            "image/png": "[encoded data removed]"
          },
          "metadata": {}
        },
        {
          "output_type": "stream",
          "name": "stdout",
          "text": [
            "Predicted Label: 5\n",
            "True Label: 8\n"
          ]
        }
      ]
    },
    {
      "cell_type": "markdown",
      "source": [
        "Visualizing the output by loading or creating a new image for processing."
      ],
      "metadata": {
        "id": "8V9lUJhRGUgq"
      }
    },
    {
      "cell_type": "code",
      "source": [
        "from skimage import color, transform\n",
        "\n",
        "def predict_and_display_new_number(new_number, nn):\n",
        "    # Check if the image is RGB and convert to grayscale\n",
        "    if len(new_number.shape) == 3:  # RGB image\n",
        "        new_number = color.rgb2gray(new_number)  # Convert to grayscale\n",
        "\n",
        "    # Resize the image to 28x28 if it's not already the correct size\n",
        "    new_number = transform.resize(new_number, (28, 28), mode='reflect', anti_aliasing=True)\n",
        "\n",
        "    # Flatten the image and reshape for single prediction\n",
        "    new_number = new_number.flatten().reshape(1, 784)\n",
        "\n",
        "    # Normalize the image (since the model was trained on normalized data)\n",
        "    new_number = new_number / 255.0  # Normalize pixel values between 0 and 1\n",
        "\n",
        "    # Forward pass to get predictions\n",
        "    y_pred_probs = nn.forward(new_number)\n",
        "\n",
        "    # Convert prediction probabilities to the class label (index with highest probability)\n",
        "    y_pred_label = y_pred_probs.argmax(axis=1)[0]\n",
        "\n",
        "    # Display the image\n",
        "    plt.imshow(new_number.reshape(28, 28), cmap=\"gray\")  # Reshape back to 28x28 for visualization\n",
        "    plt.title(f\"Predicted: {y_pred_label}\")  # Display predicted label as title\n",
        "    plt.axis(\"off\")  # Turn off axes\n",
        "    plt.show()\n",
        "\n",
        "    print(f\"Predicted Label for the new number: {y_pred_label}\")\n",
        "    return y_pred_label\n",
        "\n",
        "\n",
        "# Example usage (assuming your data is like MNIST, 28x28 images):\n",
        "# 1. Load or create your new number image (e.g., .webp, .png, etc.)\n",
        "new_number_image = plt.imread(\"5.jpg\")  # Replace with your actual image file path\n",
        "\n",
        "# 2. Predict and display:\n",
        "predicted_label = predict_and_display_new_number(new_number_image, nn)\n"
      ],
      "metadata": {
        "colab": {
          "base_uri": "https://localhost:8080/",
          "height": 445
        },
        "id": "9WddUi9jNlfQ",
        "outputId": "7530c216-c6d1-43d0-b4ee-bfafe9cfa0ea"
      },
      "execution_count": 55,
      "outputs": [
        {
          "output_type": "display_data",
          "data": {
            "text/plain": [
              "<Figure size 640x480 with 1 Axes>"
            ],
            "image/png": "[encoded data removed]"
          },
          "metadata": {}
        },
        {
          "output_type": "stream",
          "name": "stdout",
          "text": [
            "Predicted Label for the new number: 7\n"
          ]
        }
      ]
    }
  ]
}